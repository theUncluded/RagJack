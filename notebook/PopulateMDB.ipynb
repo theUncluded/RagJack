{
  "nbformat": 4,
  "nbformat_minor": 0,
  "metadata": {
    "colab": {
      "provenance": []
    },
    "kernelspec": {
      "name": "python3",
      "display_name": "Python 3"
    },
    "language_info": {
      "name": "python"
    }
  },
  "cells": [
    {
      "cell_type": "code",
      "source": [
        "!pip install gradio icecream langchain openai sentence-transformers tiktoken langchain-mongodb langchain-openai"
      ],
      "metadata": {
        "colab": {
          "base_uri": "https://localhost:8080/"
        },
        "id": "iohB6bqBhj56",
        "outputId": "6c3073f5-018f-457d-a689-ccb52df59b0c"
      },
      "execution_count": null,
      "outputs": [
        {
          "output_type": "stream",
          "name": "stdout",
          "text": [
            "Collecting gradio\n",
            "  Downloading gradio-4.29.0-py3-none-any.whl (12.3 MB)\n",
            "\u001b[2K     \u001b[90m━━━━━━━━━━━━━━━━━━━━━━━━━━━━━━━━━━━━━━━━\u001b[0m \u001b[32m12.3/12.3 MB\u001b[0m \u001b[31m17.8 MB/s\u001b[0m eta \u001b[36m0:00:00\u001b[0m\n",
            "\u001b[?25hCollecting icecream\n",
            "  Downloading icecream-2.1.3-py2.py3-none-any.whl (8.4 kB)\n",
            "Collecting langchain\n",
            "  Downloading langchain-0.1.17-py3-none-any.whl (867 kB)\n",
            "\u001b[2K     \u001b[90m━━━━━━━━━━━━━━━━━━━━━━━━━━━━━━━━━━━━━━━━\u001b[0m \u001b[32m867.6/867.6 kB\u001b[0m \u001b[31m21.6 MB/s\u001b[0m eta \u001b[36m0:00:00\u001b[0m\n",
            "\u001b[?25hCollecting openai\n",
            "  Downloading openai-1.26.0-py3-none-any.whl (314 kB)\n",
            "\u001b[2K     \u001b[90m━━━━━━━━━━━━━━━━━━━━━━━━━━━━━━━━━━━━━━━━\u001b[0m \u001b[32m314.1/314.1 kB\u001b[0m \u001b[31m17.3 MB/s\u001b[0m eta \u001b[36m0:00:00\u001b[0m\n",
            "\u001b[?25hCollecting sentence-transformers\n",
            "  Downloading sentence_transformers-2.7.0-py3-none-any.whl (171 kB)\n",
            "\u001b[2K     \u001b[90m━━━━━━━━━━━━━━━━━━━━━━━━━━━━━━━━━━━━━━━━\u001b[0m \u001b[32m171.5/171.5 kB\u001b[0m \u001b[31m14.2 MB/s\u001b[0m eta \u001b[36m0:00:00\u001b[0m\n",
            "\u001b[?25hCollecting tiktoken\n",
            "  Downloading tiktoken-0.6.0-cp310-cp310-manylinux_2_17_x86_64.manylinux2014_x86_64.whl (1.8 MB)\n",
            "\u001b[2K     \u001b[90m━━━━━━━━━━━━━━━━━━━━━━━━━━━━━━━━━━━━━━━━\u001b[0m \u001b[32m1.8/1.8 MB\u001b[0m \u001b[31m22.8 MB/s\u001b[0m eta \u001b[36m0:00:00\u001b[0m\n",
            "\u001b[?25hCollecting langchain-mongodb\n",
            "  Downloading langchain_mongodb-0.1.3-py3-none-any.whl (12 kB)\n",
            "Collecting langchain-openai\n",
            "  Downloading langchain_openai-0.1.6-py3-none-any.whl (34 kB)\n",
            "Collecting aiofiles<24.0,>=22.0 (from gradio)\n",
            "  Downloading aiofiles-23.2.1-py3-none-any.whl (15 kB)\n",
            "Requirement already satisfied: altair<6.0,>=4.2.0 in /usr/local/lib/python3.10/dist-packages (from gradio) (4.2.2)\n",
            "Collecting fastapi (from gradio)\n",
            "  Downloading fastapi-0.111.0-py3-none-any.whl (91 kB)\n",
            "\u001b[2K     \u001b[90m━━━━━━━━━━━━━━━━━━━━━━━━━━━━━━━━━━━━━━━━\u001b[0m \u001b[32m92.0/92.0 kB\u001b[0m \u001b[31m2.5 MB/s\u001b[0m eta \u001b[36m0:00:00\u001b[0m\n",
            "\u001b[?25hCollecting ffmpy (from gradio)\n",
            "  Downloading ffmpy-0.3.2.tar.gz (5.5 kB)\n",
            "  Preparing metadata (setup.py) ... \u001b[?25l\u001b[?25hdone\n",
            "Collecting gradio-client==0.16.1 (from gradio)\n",
            "  Downloading gradio_client-0.16.1-py3-none-any.whl (314 kB)\n",
            "\u001b[2K     \u001b[90m━━━━━━━━━━━━━━━━━━━━━━━━━━━━━━━━━━━━━━━━\u001b[0m \u001b[32m314.6/314.6 kB\u001b[0m \u001b[31m18.0 MB/s\u001b[0m eta \u001b[36m0:00:00\u001b[0m\n",
            "\u001b[?25hCollecting httpx>=0.24.1 (from gradio)\n",
            "  Downloading httpx-0.27.0-py3-none-any.whl (75 kB)\n",
            "\u001b[2K     \u001b[90m━━━━━━━━━━━━━━━━━━━━━━━━━━━━━━━━━━━━━━━━\u001b[0m \u001b[32m75.6/75.6 kB\u001b[0m \u001b[31m3.2 MB/s\u001b[0m eta \u001b[36m0:00:00\u001b[0m\n",
            "\u001b[?25hRequirement already satisfied: huggingface-hub>=0.19.3 in /usr/local/lib/python3.10/dist-packages (from gradio) (0.20.3)\n",
            "Requirement already satisfied: importlib-resources<7.0,>=1.3 in /usr/local/lib/python3.10/dist-packages (from gradio) (6.4.0)\n",
            "Requirement already satisfied: jinja2<4.0 in /usr/local/lib/python3.10/dist-packages (from gradio) (3.1.3)\n",
            "Requirement already satisfied: markupsafe~=2.0 in /usr/local/lib/python3.10/dist-packages (from gradio) (2.1.5)\n",
            "Requirement already satisfied: matplotlib~=3.0 in /usr/local/lib/python3.10/dist-packages (from gradio) (3.7.1)\n",
            "Requirement already satisfied: numpy~=1.0 in /usr/local/lib/python3.10/dist-packages (from gradio) (1.25.2)\n",
            "Collecting orjson~=3.0 (from gradio)\n",
            "  Downloading orjson-3.10.3-cp310-cp310-manylinux_2_17_x86_64.manylinux2014_x86_64.whl (142 kB)\n",
            "\u001b[2K     \u001b[90m━━━━━━━━━━━━━━━━━━━━━━━━━━━━━━━━━━━━━━━━\u001b[0m \u001b[32m142.5/142.5 kB\u001b[0m \u001b[31m1.3 MB/s\u001b[0m eta \u001b[36m0:00:00\u001b[0m\n",
            "\u001b[?25hRequirement already satisfied: packaging in /usr/local/lib/python3.10/dist-packages (from gradio) (24.0)\n",
            "Requirement already satisfied: pandas<3.0,>=1.0 in /usr/local/lib/python3.10/dist-packages (from gradio) (2.0.3)\n",
            "Requirement already satisfied: pillow<11.0,>=8.0 in /usr/local/lib/python3.10/dist-packages (from gradio) (9.4.0)\n",
            "Requirement already satisfied: pydantic>=2.0 in /usr/local/lib/python3.10/dist-packages (from gradio) (2.7.1)\n",
            "Collecting pydub (from gradio)\n",
            "  Downloading pydub-0.25.1-py2.py3-none-any.whl (32 kB)\n",
            "Collecting python-multipart>=0.0.9 (from gradio)\n",
            "  Downloading python_multipart-0.0.9-py3-none-any.whl (22 kB)\n",
            "Requirement already satisfied: pyyaml<7.0,>=5.0 in /usr/local/lib/python3.10/dist-packages (from gradio) (6.0.1)\n",
            "Collecting ruff>=0.2.2 (from gradio)\n",
            "  Downloading ruff-0.4.3-py3-none-manylinux_2_17_x86_64.manylinux2014_x86_64.whl (8.7 MB)\n",
            "\u001b[2K     \u001b[90m━━━━━━━━━━━━━━━━━━━━━━━━━━━━━━━━━━━━━━━━\u001b[0m \u001b[32m8.7/8.7 MB\u001b[0m \u001b[31m22.0 MB/s\u001b[0m eta \u001b[36m0:00:00\u001b[0m\n",
            "\u001b[?25hCollecting semantic-version~=2.0 (from gradio)\n",
            "  Downloading semantic_version-2.10.0-py2.py3-none-any.whl (15 kB)\n",
            "Collecting tomlkit==0.12.0 (from gradio)\n",
            "  Downloading tomlkit-0.12.0-py3-none-any.whl (37 kB)\n",
            "Collecting typer<1.0,>=0.12 (from gradio)\n",
            "  Downloading typer-0.12.3-py3-none-any.whl (47 kB)\n",
            "\u001b[2K     \u001b[90m━━━━━━━━━━━━━━━━━━━━━━━━━━━━━━━━━━━━━━━━\u001b[0m \u001b[32m47.2/47.2 kB\u001b[0m \u001b[31m2.8 MB/s\u001b[0m eta \u001b[36m0:00:00\u001b[0m\n",
            "\u001b[?25hRequirement already satisfied: typing-extensions~=4.0 in /usr/local/lib/python3.10/dist-packages (from gradio) (4.11.0)\n",
            "Requirement already satisfied: urllib3~=2.0 in /usr/local/lib/python3.10/dist-packages (from gradio) (2.0.7)\n",
            "Collecting uvicorn>=0.14.0 (from gradio)\n",
            "  Downloading uvicorn-0.29.0-py3-none-any.whl (60 kB)\n",
            "\u001b[2K     \u001b[90m━━━━━━━━━━━━━━━━━━━━━━━━━━━━━━━━━━━━━━━━\u001b[0m \u001b[32m60.8/60.8 kB\u001b[0m \u001b[31m3.5 MB/s\u001b[0m eta \u001b[36m0:00:00\u001b[0m\n",
            "\u001b[?25hRequirement already satisfied: fsspec in /usr/local/lib/python3.10/dist-packages (from gradio-client==0.16.1->gradio) (2023.6.0)\n",
            "Collecting websockets<12.0,>=10.0 (from gradio-client==0.16.1->gradio)\n",
            "  Downloading websockets-11.0.3-cp310-cp310-manylinux_2_5_x86_64.manylinux1_x86_64.manylinux_2_17_x86_64.manylinux2014_x86_64.whl (129 kB)\n",
            "\u001b[2K     \u001b[90m━━━━━━━━━━━━━━━━━━━━━━━━━━━━━━━━━━━━━━━━\u001b[0m \u001b[32m129.9/129.9 kB\u001b[0m \u001b[31m5.4 MB/s\u001b[0m eta \u001b[36m0:00:00\u001b[0m\n",
            "\u001b[?25hCollecting colorama>=0.3.9 (from icecream)\n",
            "  Downloading colorama-0.4.6-py2.py3-none-any.whl (25 kB)\n",
            "Requirement already satisfied: pygments>=2.2.0 in /usr/local/lib/python3.10/dist-packages (from icecream) (2.16.1)\n",
            "Collecting executing>=0.3.1 (from icecream)\n",
            "  Downloading executing-2.0.1-py2.py3-none-any.whl (24 kB)\n",
            "Collecting asttokens>=2.0.1 (from icecream)\n",
            "  Downloading asttokens-2.4.1-py2.py3-none-any.whl (27 kB)\n",
            "Requirement already satisfied: SQLAlchemy<3,>=1.4 in /usr/local/lib/python3.10/dist-packages (from langchain) (2.0.29)\n",
            "Requirement already satisfied: aiohttp<4.0.0,>=3.8.3 in /usr/local/lib/python3.10/dist-packages (from langchain) (3.9.5)\n",
            "Requirement already satisfied: async-timeout<5.0.0,>=4.0.0 in /usr/local/lib/python3.10/dist-packages (from langchain) (4.0.3)\n",
            "Collecting dataclasses-json<0.7,>=0.5.7 (from langchain)\n",
            "  Downloading dataclasses_json-0.6.5-py3-none-any.whl (28 kB)\n",
            "Collecting jsonpatch<2.0,>=1.33 (from langchain)\n",
            "  Downloading jsonpatch-1.33-py2.py3-none-any.whl (12 kB)\n",
            "Collecting langchain-community<0.1,>=0.0.36 (from langchain)\n",
            "  Downloading langchain_community-0.0.37-py3-none-any.whl (2.0 MB)\n",
            "\u001b[2K     \u001b[90m━━━━━━━━━━━━━━━━━━━━━━━━━━━━━━━━━━━━━━━━\u001b[0m \u001b[32m2.0/2.0 MB\u001b[0m \u001b[31m10.8 MB/s\u001b[0m eta \u001b[36m0:00:00\u001b[0m\n",
            "\u001b[?25hCollecting langchain-core<0.2.0,>=0.1.48 (from langchain)\n",
            "  Downloading langchain_core-0.1.52-py3-none-any.whl (302 kB)\n",
            "\u001b[2K     \u001b[90m━━━━━━━━━━━━━━━━━━━━━━━━━━━━━━━━━━━━━━━━\u001b[0m \u001b[32m302.9/302.9 kB\u001b[0m \u001b[31m16.2 MB/s\u001b[0m eta \u001b[36m0:00:00\u001b[0m\n",
            "\u001b[?25hCollecting langchain-text-splitters<0.1,>=0.0.1 (from langchain)\n",
            "  Downloading langchain_text_splitters-0.0.1-py3-none-any.whl (21 kB)\n",
            "Collecting langsmith<0.2.0,>=0.1.17 (from langchain)\n",
            "  Downloading langsmith-0.1.54-py3-none-any.whl (116 kB)\n",
            "\u001b[2K     \u001b[90m━━━━━━━━━━━━━━━━━━━━━━━━━━━━━━━━━━━━━━━━\u001b[0m \u001b[32m116.7/116.7 kB\u001b[0m \u001b[31m5.8 MB/s\u001b[0m eta \u001b[36m0:00:00\u001b[0m\n",
            "\u001b[?25hRequirement already satisfied: requests<3,>=2 in /usr/local/lib/python3.10/dist-packages (from langchain) (2.31.0)\n",
            "Requirement already satisfied: tenacity<9.0.0,>=8.1.0 in /usr/local/lib/python3.10/dist-packages (from langchain) (8.2.3)\n",
            "Requirement already satisfied: anyio<5,>=3.5.0 in /usr/local/lib/python3.10/dist-packages (from openai) (3.7.1)\n",
            "Requirement already satisfied: distro<2,>=1.7.0 in /usr/lib/python3/dist-packages (from openai) (1.7.0)\n",
            "Requirement already satisfied: sniffio in /usr/local/lib/python3.10/dist-packages (from openai) (1.3.1)\n",
            "Requirement already satisfied: tqdm>4 in /usr/local/lib/python3.10/dist-packages (from openai) (4.66.4)\n",
            "Requirement already satisfied: transformers<5.0.0,>=4.34.0 in /usr/local/lib/python3.10/dist-packages (from sentence-transformers) (4.40.1)\n",
            "Requirement already satisfied: torch>=1.11.0 in /usr/local/lib/python3.10/dist-packages (from sentence-transformers) (2.2.1+cu121)\n",
            "Requirement already satisfied: scikit-learn in /usr/local/lib/python3.10/dist-packages (from sentence-transformers) (1.2.2)\n",
            "Requirement already satisfied: scipy in /usr/local/lib/python3.10/dist-packages (from sentence-transformers) (1.11.4)\n",
            "Requirement already satisfied: regex>=2022.1.18 in /usr/local/lib/python3.10/dist-packages (from tiktoken) (2023.12.25)\n",
            "Collecting pymongo<5.0,>=4.6.1 (from langchain-mongodb)\n",
            "  Downloading pymongo-4.7.1-cp310-cp310-manylinux_2_17_x86_64.manylinux2014_x86_64.whl (669 kB)\n",
            "\u001b[2K     \u001b[90m━━━━━━━━━━━━━━━━━━━━━━━━━━━━━━━━━━━━━━━━\u001b[0m \u001b[32m670.0/670.0 kB\u001b[0m \u001b[31m12.1 MB/s\u001b[0m eta \u001b[36m0:00:00\u001b[0m\n",
            "\u001b[?25hRequirement already satisfied: aiosignal>=1.1.2 in /usr/local/lib/python3.10/dist-packages (from aiohttp<4.0.0,>=3.8.3->langchain) (1.3.1)\n",
            "Requirement already satisfied: attrs>=17.3.0 in /usr/local/lib/python3.10/dist-packages (from aiohttp<4.0.0,>=3.8.3->langchain) (23.2.0)\n",
            "Requirement already satisfied: frozenlist>=1.1.1 in /usr/local/lib/python3.10/dist-packages (from aiohttp<4.0.0,>=3.8.3->langchain) (1.4.1)\n",
            "Requirement already satisfied: multidict<7.0,>=4.5 in /usr/local/lib/python3.10/dist-packages (from aiohttp<4.0.0,>=3.8.3->langchain) (6.0.5)\n",
            "Requirement already satisfied: yarl<2.0,>=1.0 in /usr/local/lib/python3.10/dist-packages (from aiohttp<4.0.0,>=3.8.3->langchain) (1.9.4)\n",
            "Requirement already satisfied: entrypoints in /usr/local/lib/python3.10/dist-packages (from altair<6.0,>=4.2.0->gradio) (0.4)\n",
            "Requirement already satisfied: jsonschema>=3.0 in /usr/local/lib/python3.10/dist-packages (from altair<6.0,>=4.2.0->gradio) (4.19.2)\n",
            "Requirement already satisfied: toolz in /usr/local/lib/python3.10/dist-packages (from altair<6.0,>=4.2.0->gradio) (0.12.1)\n",
            "Requirement already satisfied: idna>=2.8 in /usr/local/lib/python3.10/dist-packages (from anyio<5,>=3.5.0->openai) (3.7)\n",
            "Requirement already satisfied: exceptiongroup in /usr/local/lib/python3.10/dist-packages (from anyio<5,>=3.5.0->openai) (1.2.1)\n",
            "Requirement already satisfied: six>=1.12.0 in /usr/local/lib/python3.10/dist-packages (from asttokens>=2.0.1->icecream) (1.16.0)\n",
            "Collecting marshmallow<4.0.0,>=3.18.0 (from dataclasses-json<0.7,>=0.5.7->langchain)\n",
            "  Downloading marshmallow-3.21.2-py3-none-any.whl (49 kB)\n",
            "\u001b[2K     \u001b[90m━━━━━━━━━━━━━━━━━━━━━━━━━━━━━━━━━━━━━━━━\u001b[0m \u001b[32m49.3/49.3 kB\u001b[0m \u001b[31m3.2 MB/s\u001b[0m eta \u001b[36m0:00:00\u001b[0m\n",
            "\u001b[?25hCollecting typing-inspect<1,>=0.4.0 (from dataclasses-json<0.7,>=0.5.7->langchain)\n",
            "  Downloading typing_inspect-0.9.0-py3-none-any.whl (8.8 kB)\n",
            "Requirement already satisfied: certifi in /usr/local/lib/python3.10/dist-packages (from httpx>=0.24.1->gradio) (2024.2.2)\n",
            "Collecting httpcore==1.* (from httpx>=0.24.1->gradio)\n",
            "  Downloading httpcore-1.0.5-py3-none-any.whl (77 kB)\n",
            "\u001b[2K     \u001b[90m━━━━━━━━━━━━━━━━━━━━━━━━━━━━━━━━━━━━━━━━\u001b[0m \u001b[32m77.9/77.9 kB\u001b[0m \u001b[31m8.4 MB/s\u001b[0m eta \u001b[36m0:00:00\u001b[0m\n",
            "\u001b[?25hCollecting h11<0.15,>=0.13 (from httpcore==1.*->httpx>=0.24.1->gradio)\n",
            "  Downloading h11-0.14.0-py3-none-any.whl (58 kB)\n",
            "\u001b[2K     \u001b[90m━━━━━━━━━━━━━━━━━━━━━━━━━━━━━━━━━━━━━━━━\u001b[0m \u001b[32m58.3/58.3 kB\u001b[0m \u001b[31m6.9 MB/s\u001b[0m eta \u001b[36m0:00:00\u001b[0m\n",
            "\u001b[?25hRequirement already satisfied: filelock in /usr/local/lib/python3.10/dist-packages (from huggingface-hub>=0.19.3->gradio) (3.14.0)\n",
            "Collecting jsonpointer>=1.9 (from jsonpatch<2.0,>=1.33->langchain)\n",
            "  Downloading jsonpointer-2.4-py2.py3-none-any.whl (7.8 kB)\n",
            "Collecting packaging (from gradio)\n",
            "  Downloading packaging-23.2-py3-none-any.whl (53 kB)\n",
            "\u001b[2K     \u001b[90m━━━━━━━━━━━━━━━━━━━━━━━━━━━━━━━━━━━━━━━━\u001b[0m \u001b[32m53.0/53.0 kB\u001b[0m \u001b[31m6.6 MB/s\u001b[0m eta \u001b[36m0:00:00\u001b[0m\n",
            "\u001b[?25hRequirement already satisfied: contourpy>=1.0.1 in /usr/local/lib/python3.10/dist-packages (from matplotlib~=3.0->gradio) (1.2.1)\n",
            "Requirement already satisfied: cycler>=0.10 in /usr/local/lib/python3.10/dist-packages (from matplotlib~=3.0->gradio) (0.12.1)\n",
            "Requirement already satisfied: fonttools>=4.22.0 in /usr/local/lib/python3.10/dist-packages (from matplotlib~=3.0->gradio) (4.51.0)\n",
            "Requirement already satisfied: kiwisolver>=1.0.1 in /usr/local/lib/python3.10/dist-packages (from matplotlib~=3.0->gradio) (1.4.5)\n",
            "Requirement already satisfied: pyparsing>=2.3.1 in /usr/local/lib/python3.10/dist-packages (from matplotlib~=3.0->gradio) (3.1.2)\n",
            "Requirement already satisfied: python-dateutil>=2.7 in /usr/local/lib/python3.10/dist-packages (from matplotlib~=3.0->gradio) (2.8.2)\n",
            "Requirement already satisfied: pytz>=2020.1 in /usr/local/lib/python3.10/dist-packages (from pandas<3.0,>=1.0->gradio) (2023.4)\n",
            "Requirement already satisfied: tzdata>=2022.1 in /usr/local/lib/python3.10/dist-packages (from pandas<3.0,>=1.0->gradio) (2024.1)\n",
            "Requirement already satisfied: annotated-types>=0.4.0 in /usr/local/lib/python3.10/dist-packages (from pydantic>=2.0->gradio) (0.6.0)\n",
            "Requirement already satisfied: pydantic-core==2.18.2 in /usr/local/lib/python3.10/dist-packages (from pydantic>=2.0->gradio) (2.18.2)\n",
            "Collecting dnspython<3.0.0,>=1.16.0 (from pymongo<5.0,>=4.6.1->langchain-mongodb)\n",
            "  Downloading dnspython-2.6.1-py3-none-any.whl (307 kB)\n",
            "\u001b[2K     \u001b[90m━━━━━━━━━━━━━━━━━━━━━━━━━━━━━━━━━━━━━━━━\u001b[0m \u001b[32m307.7/307.7 kB\u001b[0m \u001b[31m25.5 MB/s\u001b[0m eta \u001b[36m0:00:00\u001b[0m\n",
            "\u001b[?25hRequirement already satisfied: charset-normalizer<4,>=2 in /usr/local/lib/python3.10/dist-packages (from requests<3,>=2->langchain) (3.3.2)\n",
            "Requirement already satisfied: greenlet!=0.4.17 in /usr/local/lib/python3.10/dist-packages (from SQLAlchemy<3,>=1.4->langchain) (3.0.3)\n",
            "Requirement already satisfied: sympy in /usr/local/lib/python3.10/dist-packages (from torch>=1.11.0->sentence-transformers) (1.12)\n",
            "Requirement already satisfied: networkx in /usr/local/lib/python3.10/dist-packages (from torch>=1.11.0->sentence-transformers) (3.3)\n",
            "Collecting nvidia-cuda-nvrtc-cu12==12.1.105 (from torch>=1.11.0->sentence-transformers)\n",
            "  Using cached nvidia_cuda_nvrtc_cu12-12.1.105-py3-none-manylinux1_x86_64.whl (23.7 MB)\n",
            "Collecting nvidia-cuda-runtime-cu12==12.1.105 (from torch>=1.11.0->sentence-transformers)\n",
            "  Using cached nvidia_cuda_runtime_cu12-12.1.105-py3-none-manylinux1_x86_64.whl (823 kB)\n",
            "Collecting nvidia-cuda-cupti-cu12==12.1.105 (from torch>=1.11.0->sentence-transformers)\n",
            "  Using cached nvidia_cuda_cupti_cu12-12.1.105-py3-none-manylinux1_x86_64.whl (14.1 MB)\n",
            "Collecting nvidia-cudnn-cu12==8.9.2.26 (from torch>=1.11.0->sentence-transformers)\n",
            "  Using cached nvidia_cudnn_cu12-8.9.2.26-py3-none-manylinux1_x86_64.whl (731.7 MB)\n",
            "Collecting nvidia-cublas-cu12==12.1.3.1 (from torch>=1.11.0->sentence-transformers)\n",
            "  Using cached nvidia_cublas_cu12-12.1.3.1-py3-none-manylinux1_x86_64.whl (410.6 MB)\n",
            "Collecting nvidia-cufft-cu12==11.0.2.54 (from torch>=1.11.0->sentence-transformers)\n",
            "  Using cached nvidia_cufft_cu12-11.0.2.54-py3-none-manylinux1_x86_64.whl (121.6 MB)\n",
            "Collecting nvidia-curand-cu12==10.3.2.106 (from torch>=1.11.0->sentence-transformers)\n",
            "  Using cached nvidia_curand_cu12-10.3.2.106-py3-none-manylinux1_x86_64.whl (56.5 MB)\n",
            "Collecting nvidia-cusolver-cu12==11.4.5.107 (from torch>=1.11.0->sentence-transformers)\n",
            "  Using cached nvidia_cusolver_cu12-11.4.5.107-py3-none-manylinux1_x86_64.whl (124.2 MB)\n",
            "Collecting nvidia-cusparse-cu12==12.1.0.106 (from torch>=1.11.0->sentence-transformers)\n",
            "  Using cached nvidia_cusparse_cu12-12.1.0.106-py3-none-manylinux1_x86_64.whl (196.0 MB)\n",
            "Collecting nvidia-nccl-cu12==2.19.3 (from torch>=1.11.0->sentence-transformers)\n",
            "  Using cached nvidia_nccl_cu12-2.19.3-py3-none-manylinux1_x86_64.whl (166.0 MB)\n",
            "Collecting nvidia-nvtx-cu12==12.1.105 (from torch>=1.11.0->sentence-transformers)\n",
            "  Using cached nvidia_nvtx_cu12-12.1.105-py3-none-manylinux1_x86_64.whl (99 kB)\n",
            "Requirement already satisfied: triton==2.2.0 in /usr/local/lib/python3.10/dist-packages (from torch>=1.11.0->sentence-transformers) (2.2.0)\n",
            "Collecting nvidia-nvjitlink-cu12 (from nvidia-cusolver-cu12==11.4.5.107->torch>=1.11.0->sentence-transformers)\n",
            "  Using cached nvidia_nvjitlink_cu12-12.4.127-py3-none-manylinux2014_x86_64.whl (21.1 MB)\n",
            "Requirement already satisfied: tokenizers<0.20,>=0.19 in /usr/local/lib/python3.10/dist-packages (from transformers<5.0.0,>=4.34.0->sentence-transformers) (0.19.1)\n",
            "Requirement already satisfied: safetensors>=0.4.1 in /usr/local/lib/python3.10/dist-packages (from transformers<5.0.0,>=4.34.0->sentence-transformers) (0.4.3)\n",
            "Requirement already satisfied: click>=8.0.0 in /usr/local/lib/python3.10/dist-packages (from typer<1.0,>=0.12->gradio) (8.1.7)\n",
            "Collecting shellingham>=1.3.0 (from typer<1.0,>=0.12->gradio)\n",
            "  Downloading shellingham-1.5.4-py2.py3-none-any.whl (9.8 kB)\n",
            "Requirement already satisfied: rich>=10.11.0 in /usr/local/lib/python3.10/dist-packages (from typer<1.0,>=0.12->gradio) (13.7.1)\n",
            "Collecting starlette<0.38.0,>=0.37.2 (from fastapi->gradio)\n",
            "  Downloading starlette-0.37.2-py3-none-any.whl (71 kB)\n",
            "\u001b[2K     \u001b[90m━━━━━━━━━━━━━━━━━━━━━━━━━━━━━━━━━━━━━━━━\u001b[0m \u001b[32m71.9/71.9 kB\u001b[0m \u001b[31m8.0 MB/s\u001b[0m eta \u001b[36m0:00:00\u001b[0m\n",
            "\u001b[?25hCollecting fastapi-cli>=0.0.2 (from fastapi->gradio)\n",
            "  Downloading fastapi_cli-0.0.3-py3-none-any.whl (9.2 kB)\n",
            "Collecting ujson!=4.0.2,!=4.1.0,!=4.2.0,!=4.3.0,!=5.0.0,!=5.1.0,>=4.0.1 (from fastapi->gradio)\n",
            "  Downloading ujson-5.9.0-cp310-cp310-manylinux_2_17_x86_64.manylinux2014_x86_64.whl (53 kB)\n",
            "\u001b[2K     \u001b[90m━━━━━━━━━━━━━━━━━━━━━━━━━━━━━━━━━━━━━━━━\u001b[0m \u001b[32m53.2/53.2 kB\u001b[0m \u001b[31m5.8 MB/s\u001b[0m eta \u001b[36m0:00:00\u001b[0m\n",
            "\u001b[?25hCollecting email_validator>=2.0.0 (from fastapi->gradio)\n",
            "  Downloading email_validator-2.1.1-py3-none-any.whl (30 kB)\n",
            "Requirement already satisfied: joblib>=1.1.1 in /usr/local/lib/python3.10/dist-packages (from scikit-learn->sentence-transformers) (1.4.2)\n",
            "Requirement already satisfied: threadpoolctl>=2.0.0 in /usr/local/lib/python3.10/dist-packages (from scikit-learn->sentence-transformers) (3.5.0)\n",
            "Requirement already satisfied: jsonschema-specifications>=2023.03.6 in /usr/local/lib/python3.10/dist-packages (from jsonschema>=3.0->altair<6.0,>=4.2.0->gradio) (2023.12.1)\n",
            "Requirement already satisfied: referencing>=0.28.4 in /usr/local/lib/python3.10/dist-packages (from jsonschema>=3.0->altair<6.0,>=4.2.0->gradio) (0.35.1)\n",
            "Requirement already satisfied: rpds-py>=0.7.1 in /usr/local/lib/python3.10/dist-packages (from jsonschema>=3.0->altair<6.0,>=4.2.0->gradio) (0.18.0)\n",
            "Requirement already satisfied: markdown-it-py>=2.2.0 in /usr/local/lib/python3.10/dist-packages (from rich>=10.11.0->typer<1.0,>=0.12->gradio) (3.0.0)\n",
            "Collecting mypy-extensions>=0.3.0 (from typing-inspect<1,>=0.4.0->dataclasses-json<0.7,>=0.5.7->langchain)\n",
            "  Downloading mypy_extensions-1.0.0-py3-none-any.whl (4.7 kB)\n",
            "Collecting httptools>=0.5.0 (from uvicorn>=0.14.0->gradio)\n",
            "  Downloading httptools-0.6.1-cp310-cp310-manylinux_2_5_x86_64.manylinux1_x86_64.manylinux_2_17_x86_64.manylinux2014_x86_64.whl (341 kB)\n",
            "\u001b[2K     \u001b[90m━━━━━━━━━━━━━━━━━━━━━━━━━━━━━━━━━━━━━━━━\u001b[0m \u001b[32m341.4/341.4 kB\u001b[0m \u001b[31m31.8 MB/s\u001b[0m eta \u001b[36m0:00:00\u001b[0m\n",
            "\u001b[?25hCollecting python-dotenv>=0.13 (from uvicorn>=0.14.0->gradio)\n",
            "  Downloading python_dotenv-1.0.1-py3-none-any.whl (19 kB)\n",
            "Collecting uvloop!=0.15.0,!=0.15.1,>=0.14.0 (from uvicorn>=0.14.0->gradio)\n",
            "  Downloading uvloop-0.19.0-cp310-cp310-manylinux_2_17_x86_64.manylinux2014_x86_64.whl (3.4 MB)\n",
            "\u001b[2K     \u001b[90m━━━━━━━━━━━━━━━━━━━━━━━━━━━━━━━━━━━━━━━━\u001b[0m \u001b[32m3.4/3.4 MB\u001b[0m \u001b[31m68.3 MB/s\u001b[0m eta \u001b[36m0:00:00\u001b[0m\n",
            "\u001b[?25hCollecting watchfiles>=0.13 (from uvicorn>=0.14.0->gradio)\n",
            "  Downloading watchfiles-0.21.0-cp310-cp310-manylinux_2_17_x86_64.manylinux2014_x86_64.whl (1.3 MB)\n",
            "\u001b[2K     \u001b[90m━━━━━━━━━━━━━━━━━━━━━━━━━━━━━━━━━━━━━━━━\u001b[0m \u001b[32m1.3/1.3 MB\u001b[0m \u001b[31m70.3 MB/s\u001b[0m eta \u001b[36m0:00:00\u001b[0m\n",
            "\u001b[?25hRequirement already satisfied: mpmath>=0.19 in /usr/local/lib/python3.10/dist-packages (from sympy->torch>=1.11.0->sentence-transformers) (1.3.0)\n",
            "Requirement already satisfied: mdurl~=0.1 in /usr/local/lib/python3.10/dist-packages (from markdown-it-py>=2.2.0->rich>=10.11.0->typer<1.0,>=0.12->gradio) (0.1.2)\n",
            "Building wheels for collected packages: ffmpy\n",
            "  Building wheel for ffmpy (setup.py) ... \u001b[?25l\u001b[?25hdone\n",
            "  Created wheel for ffmpy: filename=ffmpy-0.3.2-py3-none-any.whl size=5584 sha256=e45c2010f7343621971af35803803f42abcd635ecac28964a1dd7d3e01cf2bc4\n",
            "  Stored in directory: /root/.cache/pip/wheels/bd/65/9a/671fc6dcde07d4418df0c592f8df512b26d7a0029c2a23dd81\n",
            "Successfully built ffmpy\n",
            "Installing collected packages: pydub, ffmpy, websockets, uvloop, ujson, tomlkit, shellingham, semantic-version, ruff, python-multipart, python-dotenv, packaging, orjson, nvidia-nvtx-cu12, nvidia-nvjitlink-cu12, nvidia-nccl-cu12, nvidia-curand-cu12, nvidia-cufft-cu12, nvidia-cuda-runtime-cu12, nvidia-cuda-nvrtc-cu12, nvidia-cuda-cupti-cu12, nvidia-cublas-cu12, mypy-extensions, jsonpointer, httptools, h11, executing, dnspython, colorama, asttokens, aiofiles, watchfiles, uvicorn, typing-inspect, tiktoken, starlette, pymongo, nvidia-cusparse-cu12, nvidia-cudnn-cu12, marshmallow, jsonpatch, icecream, httpcore, email_validator, typer, nvidia-cusolver-cu12, langsmith, httpx, dataclasses-json, openai, langchain-core, gradio-client, sentence-transformers, langchain-text-splitters, langchain-openai, langchain-mongodb, langchain-community, langchain, fastapi-cli, fastapi, gradio\n",
            "  Attempting uninstall: packaging\n",
            "    Found existing installation: packaging 24.0\n",
            "    Uninstalling packaging-24.0:\n",
            "      Successfully uninstalled packaging-24.0\n",
            "  Attempting uninstall: typer\n",
            "    Found existing installation: typer 0.9.4\n",
            "    Uninstalling typer-0.9.4:\n",
            "      Successfully uninstalled typer-0.9.4\n",
            "\u001b[31mERROR: pip's dependency resolver does not currently take into account all the packages that are installed. This behaviour is the source of the following dependency conflicts.\n",
            "spacy 3.7.4 requires typer<0.10.0,>=0.3.0, but you have typer 0.12.3 which is incompatible.\n",
            "weasel 0.3.4 requires typer<0.10.0,>=0.3.0, but you have typer 0.12.3 which is incompatible.\u001b[0m\u001b[31m\n",
            "\u001b[0mSuccessfully installed aiofiles-23.2.1 asttokens-2.4.1 colorama-0.4.6 dataclasses-json-0.6.5 dnspython-2.6.1 email_validator-2.1.1 executing-2.0.1 fastapi-0.111.0 fastapi-cli-0.0.3 ffmpy-0.3.2 gradio-4.29.0 gradio-client-0.16.1 h11-0.14.0 httpcore-1.0.5 httptools-0.6.1 httpx-0.27.0 icecream-2.1.3 jsonpatch-1.33 jsonpointer-2.4 langchain-0.1.17 langchain-community-0.0.37 langchain-core-0.1.52 langchain-mongodb-0.1.3 langchain-openai-0.1.6 langchain-text-splitters-0.0.1 langsmith-0.1.54 marshmallow-3.21.2 mypy-extensions-1.0.0 nvidia-cublas-cu12-12.1.3.1 nvidia-cuda-cupti-cu12-12.1.105 nvidia-cuda-nvrtc-cu12-12.1.105 nvidia-cuda-runtime-cu12-12.1.105 nvidia-cudnn-cu12-8.9.2.26 nvidia-cufft-cu12-11.0.2.54 nvidia-curand-cu12-10.3.2.106 nvidia-cusolver-cu12-11.4.5.107 nvidia-cusparse-cu12-12.1.0.106 nvidia-nccl-cu12-2.19.3 nvidia-nvjitlink-cu12-12.4.127 nvidia-nvtx-cu12-12.1.105 openai-1.26.0 orjson-3.10.3 packaging-23.2 pydub-0.25.1 pymongo-4.7.1 python-dotenv-1.0.1 python-multipart-0.0.9 ruff-0.4.3 semantic-version-2.10.0 sentence-transformers-2.7.0 shellingham-1.5.4 starlette-0.37.2 tiktoken-0.6.0 tomlkit-0.12.0 typer-0.12.3 typing-inspect-0.9.0 ujson-5.9.0 uvicorn-0.29.0 uvloop-0.19.0 watchfiles-0.21.0 websockets-11.0.3\n"
          ]
        }
      ]
    },
    {
      "cell_type": "code",
      "source": [
        "!python -m pip install \"pymongo[srv]\""
      ],
      "metadata": {
        "colab": {
          "base_uri": "https://localhost:8080/"
        },
        "id": "CV7hMQMwhl28",
        "outputId": "e1544efe-7a9c-481f-93e3-b0ae509765f5"
      },
      "execution_count": null,
      "outputs": [
        {
          "output_type": "stream",
          "name": "stdout",
          "text": [
            "Requirement already satisfied: pymongo[srv] in /usr/local/lib/python3.10/dist-packages (4.7.1)\n",
            "Requirement already satisfied: dnspython<3.0.0,>=1.16.0 in /usr/local/lib/python3.10/dist-packages (from pymongo[srv]) (2.6.1)\n"
          ]
        }
      ]
    },
    {
      "cell_type": "code",
      "execution_count": null,
      "metadata": {
        "id": "gRil04Pnhe1w"
      },
      "outputs": [],
      "source": [
        "# Import libraries.\n",
        "import getpass\n",
        "import gradio as gr\n",
        "import os\n",
        "import pprint\n",
        "import requests\n",
        "import sys\n",
        "\n",
        "from pymongo.mongo_client import MongoClient\n",
        "from pymongo.server_api import ServerApi\n",
        "from gradio.themes.base import Base\n",
        "from google.colab import drive\n",
        "from icecream import ic\n",
        "from langchain.callbacks.tracers import ConsoleCallbackHandler\n",
        "from langchain.chat_models import ChatOpenAI\n",
        "from langchain_community.embeddings import HuggingFaceEmbeddings\n",
        "from langchain_community.llms import HuggingFacePipeline\n",
        "from langchain_core.messages import HumanMessage, SystemMessage\n",
        "from langchain.document_loaders import TextLoader\n",
        "from langchain.embeddings import OpenAIEmbeddings\n",
        "from langchain_openai import ChatOpenAI\n",
        "from langchain.prompts import ChatPromptTemplate\n",
        "from langchain.schema.runnable import RunnablePassthrough\n",
        "from langchain.schema.output_parser import StrOutputParser\n",
        "from langchain.text_splitter import RecursiveCharacterTextSplitter\n",
        "from langchain.vectorstores import MongoDBAtlasVectorSearch\n",
        "from transformers import AutoModelForCausalLM, AutoTokenizer, pipeline"
      ]
    },
    {
      "cell_type": "code",
      "source": [
        "os.environ[\"OPENAI_API_KEY\"] = getpass.getpass()\n",
        "os.environ[\"MONGO_URI\"] = getpass.getpass();\n",
        "\n",
        "OPENAI_API_KEY = os.getenv('OPENAI_API_KEY')\n",
        "MONGO_URI = os.getenv('MONGO_URI')"
      ],
      "metadata": {
        "colab": {
          "base_uri": "https://localhost:8080/"
        },
        "id": "6abXToNXhq6l",
        "outputId": "bd98d810-be71-47be-9dac-7ac54909c09e"
      },
      "execution_count": null,
      "outputs": [
        {
          "name": "stdout",
          "output_type": "stream",
          "text": [
            "··········\n",
            "··········\n"
          ]
        }
      ]
    },
    {
      "cell_type": "code",
      "source": [
        "# mongodb client init\n",
        "mclient = MongoClient(MONGO_URI, server_api=ServerApi('1'))"
      ],
      "metadata": {
        "id": "JMGiKefxhvZ1"
      },
      "execution_count": null,
      "outputs": []
    },
    {
      "cell_type": "code",
      "source": [
        "# Connect to MongoDB Atlas cluster using the connection string.\n",
        "cluster = MongoClient(MONGO_URI)\n",
        "\n",
        "# Define the MongoDB database and collection name.\n",
        "DB_NAME = \"blackrag\"\n",
        "COLLECTION_NAME = \"blackjack\"\n",
        "\n",
        "# Connect to the specific collection in the database.\n",
        "MONGODB_COLLECTION = cluster[DB_NAME][COLLECTION_NAME]\n",
        "\n",
        "vector_search_index = \"vector_index\""
      ],
      "metadata": {
        "id": "60n2j3byhwan"
      },
      "execution_count": null,
      "outputs": []
    },
    {
      "cell_type": "code",
      "source": [
        "MONGODB_COLLECTION.delete_many({})"
      ],
      "metadata": {
        "colab": {
          "base_uri": "https://localhost:8080/"
        },
        "id": "DJSCrzplhyCF",
        "outputId": "f5ce6235-b780-435b-dbde-c11fd218da5a"
      },
      "execution_count": null,
      "outputs": [
        {
          "output_type": "execute_result",
          "data": {
            "text/plain": [
              "DeleteResult({'n': 875, 'electionId': ObjectId('7fffffff00000000000001f5'), 'opTime': {'ts': Timestamp(1715111576, 909), 't': 501}, 'ok': 1.0, '$clusterTime': {'clusterTime': Timestamp(1715111576, 914), 'signature': {'hash': b'va\\xc0\\x94\\xc0\\xe2M\\xfd\\xb0i\\xc1\\xbaX\\xfa)\\\\B\\x19\\x1el', 'keyId': 7327356035386048545}}, 'operationTime': Timestamp(1715111576, 909)}, acknowledged=True)"
            ]
          },
          "metadata": {},
          "execution_count": 30
        }
      ]
    },
    {
      "cell_type": "code",
      "source": [
        "drive.mount(\"/content/drive/\")"
      ],
      "metadata": {
        "colab": {
          "base_uri": "https://localhost:8080/"
        },
        "id": "gxHghjvBh7cN",
        "outputId": "3a24c82e-da29-4a6d-f6bc-c9b6e30a2fff"
      },
      "execution_count": null,
      "outputs": [
        {
          "output_type": "stream",
          "name": "stdout",
          "text": [
            "Mounted at /content/drive/\n"
          ]
        }
      ]
    },
    {
      "cell_type": "code",
      "source": [
        "directory_path = \"/content/drive/MyDrive/blackjack_rag\"\n",
        "\n",
        "sys.path.append(directory_path)"
      ],
      "metadata": {
        "id": "8DmFKRukjmz4"
      },
      "execution_count": null,
      "outputs": []
    },
    {
      "cell_type": "code",
      "source": [
        "my_txts = os.listdir(directory_path)\n",
        "my_txts"
      ],
      "metadata": {
        "colab": {
          "base_uri": "https://localhost:8080/"
        },
        "id": "agWUbLExjtZH",
        "outputId": "fe490be5-2d52-4fce-d280-69822c1eb7b6"
      },
      "execution_count": null,
      "outputs": [
        {
          "output_type": "execute_result",
          "data": {
            "text/plain": [
              "['Ultimate BlackJack.txt',\n",
              " \"Don Schlesinger - Blackjack Attack_ Playing the Pros' Way-RGE Publications (1997).txt\"]"
            ]
          },
          "metadata": {},
          "execution_count": 32
        }
      ]
    },
    {
      "cell_type": "code",
      "source": [
        "loaders = []\n",
        "for my_txt in my_txts:\n",
        "  my_txt_path = os.path.join(directory_path, my_txt)\n",
        "  loaders.append(TextLoader(my_txt_path))\n",
        "\n",
        "loaders"
      ],
      "metadata": {
        "colab": {
          "base_uri": "https://localhost:8080/"
        },
        "id": "LRxw09tCjv7Z",
        "outputId": "d6910738-eec7-4806-ae3d-a5abaa6f860a"
      },
      "execution_count": null,
      "outputs": [
        {
          "output_type": "execute_result",
          "data": {
            "text/plain": [
              "[<langchain_community.document_loaders.text.TextLoader at 0x7b503e5eece0>,\n",
              " <langchain_community.document_loaders.text.TextLoader at 0x7b503e5edfc0>]"
            ]
          },
          "metadata": {},
          "execution_count": 33
        }
      ]
    },
    {
      "cell_type": "code",
      "source": [
        "data = []\n",
        "for loader in loaders:\n",
        "  data.append(loader.load())"
      ],
      "metadata": {
        "id": "auyangMFjyMG"
      },
      "execution_count": null,
      "outputs": []
    },
    {
      "cell_type": "code",
      "source": [
        "text_splitter = RecursiveCharacterTextSplitter(chunk_size=750, chunk_overlap=150)"
      ],
      "metadata": {
        "id": "srD4VNeGl_IF"
      },
      "execution_count": null,
      "outputs": []
    },
    {
      "cell_type": "code",
      "source": [
        "docs = []\n",
        "for doc in data:\n",
        "  chunk = text_splitter.split_documents(doc)\n",
        "  docs.append(chunk)"
      ],
      "metadata": {
        "id": "kjrMJSWamA5L"
      },
      "execution_count": null,
      "outputs": []
    },
    {
      "cell_type": "code",
      "source": [
        "# Debugging purposes.\n",
        "# Print the number of total documents to be stored in the vector database.\n",
        "total = 0\n",
        "for i in range(len(docs)):\n",
        "  if i == len(docs) - 1:\n",
        "    print(len(docs[i]), end=\"\")\n",
        "  else:\n",
        "    print(len(docs[i]), \"+ \" ,end=\"\")\n",
        "  total += len(docs[i])\n",
        "print(\" =\", total, \" total documents\\n\")\n",
        "\n",
        "# Print the first document.\n",
        "print(docs[0], \"\\n\\n\\n\")\n",
        "\n",
        "# Print the total number of PDF files.\n",
        "# docs is a list of lists where each list stores all the documents for one PDF file.\n",
        "print(len(docs))"
      ],
      "metadata": {
        "colab": {
          "base_uri": "https://localhost:8080/"
        },
        "id": "K0DwtjiNmCxF",
        "outputId": "47f5483b-d546-48bf-b070-c6cecddf1bfb"
      },
      "execution_count": null,
      "outputs": [
        {
          "output_type": "stream",
          "name": "stdout",
          "text": [
            "51 + 824 = 875  total documents\n",
            "\n",
            "[Document(page_content='Rules \\nThe game itself is simple. You, the player, attempt to accumu\\x02late cards with a numerical total closer to (but not more than) \\ntwenty-one than those accumulated by the dealer. If you do so, \\nyou win. If the dealers\\' total is closer to twenty-one than \\nyours, you lose. Winning hands are paid off at even odds. If you \\nand the dealer both arrive at the same total, the hand is a \\n\"push,\" and nobody wins. All bets must be made before any cards \\nare dealt, and no bet may be changed once the first card has \\nbeen dealt. \\nEach player is initially dealt two cards; they may be face -down \\nor face-up, depending on the rules of the casino. The dealer \\ngets two cards, one face-up and one face-down. The value of the', metadata={'source': '/content/drive/MyDrive/blackjack_rag/Ultimate BlackJack.txt'}), Document(page_content=\"or face-up, depending on the rules of the casino. The dealer \\ngets two cards, one face-up and one face-down. The value of the \\ncards is given by their face value except that the ace (A) \\ncounts as either 1 or 11 and the 10, jack (J), queen (Q), and \\nking (K) all count as 10. \\nThe combination of an A and any 10 on the first two cards is a \\nblackjack and is an automatic winner (unless both dealer and \\nplayer have it, in which case it's a push). A player blackjack \\nis paid at 3 to 2. When the house has a blackjack the player \\nmerely loses his bet and not one and a half times that bet. Any \\ncombination of cards that exceeds 21 is a bust and a loser. The \\nplayer always goes first, so if the player's total exceeds 21\", metadata={'source': '/content/drive/MyDrive/blackjack_rag/Ultimate BlackJack.txt'}), Document(page_content=\"combination of cards that exceeds 21 is a bust and a loser. The \\nplayer always goes first, so if the player's total exceeds 21 \\nthe hand is lost -- even if the dealer also busts later. If the \\ndealer busts, all remaining players are winners. The dealer has \\nno options; play is fixed by the rules. \\nAfter the first two cards are dealt, the player must decide \\nwhether or not to take additional cards based on two pieces of \\ninformation: the cards held and the dealer's upcard. This is \\nwhere the game begins to get interesting. A wide variety of op\\x02tions offer themselves, and unless the player understands the \\nprinciples of the game there are numerous ways to go wrong. \\nLet's review the options first; correct play will be discussed \\nlater.\", metadata={'source': '/content/drive/MyDrive/blackjack_rag/Ultimate BlackJack.txt'}), Document(page_content='principles of the game there are numerous ways to go wrong. \\nLet\\'s review the options first; correct play will be discussed \\nlater. \\nPlayer Options \\nStanding \\nThe player elects to \"stand\" with the current total and not to \\ndraw any additional cards. If you are in a game where the cards \\nare dealt face-down, you slip your cards under your chips. The \\ndealer will understand the message. If you are in a face-up \\ngame, wave your hand back and forth in a wiping motion just \\nabove your cards, which is the signal for standing. All casinos \\ninsist on some form of hand signal; verbal statements are not \\naccepted. Casinos can get rather noisy, and it is easy for a \\ndealer to mishear a player. Also, the cameras hidden in the ca -', metadata={'source': '/content/drive/MyDrive/blackjack_rag/Ultimate BlackJack.txt'}), Document(page_content=\"accepted. Casinos can get rather noisy, and it is easy for a \\ndealer to mishear a player. Also, the cameras hidden in the ca -\\nsino's ceilings can be used to resolve disputes only if hand \\nsignals are used, since they do not have an audio component. \\nHitting \\nThe player elects to draw an additional card or cards. If you \\nare in a face-down game, draw your cards toward you with a quick \\nscratching motion against the felt once or twice. In a face-up \\ngame, make a similar motion with your fingertips or , prefera\\x02bly, point to your cards with your index finger. \\nSplitting \\nIf your first two cards are of the same value, you may split \\nthem and play each as a separate hand. To indicate a desire to\", metadata={'source': '/content/drive/MyDrive/blackjack_rag/Ultimate BlackJack.txt'}), Document(page_content=\"Splitting \\nIf your first two cards are of the same value, you may split \\nthem and play each as a separate hand. To indicate a desire to \\nsplit your cards, place an additional wager equivalent to the \\noriginal one to the side of it. If you are playing in a face\\x02down game, you must expose your cards. After splitting a pair, \\nvarious other options become available. You can re-split if a \\nthird like-valued card appears. Or you can double down on the \\nsplit hands should an appropriate card be drawn. For example, if \\nyou have split 8's and catch a 3 on the first 8, you may now \\ndouble down on this total of 11. Both re-splitting and doubling \\nand doubling down after a split are to the player's advantage. \\nDoubling Down\", metadata={'source': '/content/drive/MyDrive/blackjack_rag/Ultimate BlackJack.txt'}), Document(page_content=\"double down on this total of 11. Both re-splitting and doubling \\nand doubling down after a split are to the player's advantage. \\nDoubling Down \\nThe player may double the size of the original bet and elect to \\ndraw only one additional card. The typical doubling situation \\nis where you have a hand that stands a chance of becoming a \\n_very_ good hand with one additional card; for example, your \\nfirst two cards total 10 or 11. To indicate a double down bet, \\nslide a second wager to the side of the original bet. This wager \\nmay be as much as but no more than your original bet. If you are \\nplaying in a face-down game, you must expose your cards. Virtu\\x02ally all casinos permit doubling on 11 and 10; most on 11, 10,\", metadata={'source': '/content/drive/MyDrive/blackjack_rag/Ultimate BlackJack.txt'}), Document(page_content='playing in a face-down game, you must expose your cards. Virtu\\x02ally all casinos permit doubling on 11 and 10; most on 11, 10, \\nand 9, and many will allow it on any two cards. The latter rule \\nis the most advantageous to the player. \\nInsurance \\nWhen the dealer shows an A, players are given the option of tak\\x02ing insurance against the dealers\\' having blackjack. Calling \\nthis \"insurance\" is a bit misleading. Actually, it is nothing \\nother than a side bet that is paid at 2 to 1. If you wish to \\ntake insurance (which is only recommended in very specific cir\\x02cumstances recognizable by an expert card counter only), place a \\nbet equal to half your original bet in the semicircle running', metadata={'source': '/content/drive/MyDrive/blackjack_rag/Ultimate BlackJack.txt'}), Document(page_content='bet equal to half your original bet in the semicircle running \\njust in front of the your betting spot. If the dealer has black\\x02jack, you will lose your original bet but win the insurance wa\\x02ger and break even on the hand. If the dealer does not have \\nblackjack, you will lose the insurance bet and the hand will be \\nplayed out normally. \\nSurrender \\nIf your hand looks particularly unpromising against the dealers\\' \\nexposed card, you have the option of surrendering half of your \\nbet and retiring from the hand. For example, should you have 9, \\n7 against a dealer 10 and your chances of winning the hand are \\nslim -- less than .5 -- and it would be to your advantage to \\ngive up half your bet. There are to forms of surrender: \"late\"', metadata={'source': '/content/drive/MyDrive/blackjack_rag/Ultimate BlackJack.txt'}), Document(page_content='slim -- less than .5 -- and it would be to your advantage to \\ngive up half your bet. There are to forms of surrender: \"late\" \\nand \"early.\" In the late form, the player may surrender after \\nthe first two cards provided that the dealer does not have \\nblackjack. In early surrender, the player may surrender after \\nthe first two cards even when the dealer is later revealed to \\nhave blackjack. Both forms of surrender are to the players\\' ad\\x02vantage, with early surrender being most beneficial. Not all ca\\x02sinos permit late surrender, and those that do don\\'t necessarily \\npost it at the tables. Except for the occasional promotion, no \\ncasino offers early surrender any longer.', metadata={'source': '/content/drive/MyDrive/blackjack_rag/Ultimate BlackJack.txt'}), Document(page_content='post it at the tables. Except for the occasional promotion, no \\ncasino offers early surrender any longer. \\nSurrender, by the way, is the only play at the table that re\\x02quires a verbal response; there is no hand signal. If you wish \\nto surrender you hand, just say \"Surrender.\" The dealer will re- move half your bet and return the other half. \\nBalancing the Odds \\nWhen you sit down at a blackjack table to play, the house will \\nhave a small advantage over you if you do not implement some \\nkind of strategy to balance the odds. This section will teach \\nyou how to do that. Do not skip this section and rush off to \\nlearn how to \"beat the odds.\" Learning basic strategy is the \\nfirst step toward becoming an expert blackjack player.', metadata={'source': '/content/drive/MyDrive/blackjack_rag/Ultimate BlackJack.txt'}), Document(page_content='learn how to \"beat the odds.\" Learning basic strategy is the \\nfirst step toward becoming an expert blackjack player. \\nRemember our friends Baldwin, Cantey, Maisel, and McDermont? \\nThey worked out -- painstakingly, since they lacked access to a \\nhigh-speed computer -- a set of recommendation for the play of \\nthe game that were surprisingly close to today\\'s basic strategy. \\nEdward O. Thorp, the MIT scientist who essentially invented card \\ncounting, had computational power at hand that Baldwin and his \\ncoworkers lacked. He used this power to carry out what is known \\nas a \"Monte Carlo\" simulation of the game. A computer was pro\\x02grammed to play out tens of millions of hands of blackjack. It', metadata={'source': '/content/drive/MyDrive/blackjack_rag/Ultimate BlackJack.txt'}), Document(page_content='as a \"Monte Carlo\" simulation of the game. A computer was pro\\x02grammed to play out tens of millions of hands of blackjack. It \\nwas then used to analyze the outcomes and determine which cir\\x02cumstances tended to produce wins for the player and which \\ntended to produce losses. He refined and sharpened the Baldwin \\net al. basic strategy based on these simulations. \\nBasic Strategy Play \\nSince the essential features of basic strategy were developed, a \\nnumber of refinements have given us the current optimal set of \\nprinciples for standing, hitting, doubling, splitting, and sur\\x02rendering. These, along with the other more sophisticated forms \\nof play were worked out by using Monte Carlo techniques based on', metadata={'source': '/content/drive/MyDrive/blackjack_rag/Ultimate BlackJack.txt'}), Document(page_content=\"of play were worked out by using Monte Carlo techniques based on \\nthe analysis of literally billions of hands. If I tell you that \\nyou should hit a total of 16 against a dealer's 7, there is no \\nspecific mathematical proof behind this recommendation. It \\nemerged from an analysis of the several million times this \\nsituation emerged in the Monte Carlo analysis of the game. Hit\\x02ting a 16 against a 7 loses less often than standing. Sure, fol\\x02lowing this advice produces a bust on a lot of these hands, but \\nanalysis shows, utterly compellingly, that if you don't hit his \\nhand you are more likely to get beat by a higher total -- like \\n17.\", metadata={'source': '/content/drive/MyDrive/blackjack_rag/Ultimate BlackJack.txt'}), Document(page_content=\"analysis shows, utterly compellingly, that if you don't hit his \\nhand you are more likely to get beat by a higher total -- like \\n17. \\nWhen possible, I will give a logical analysis of particular as\\x02pects of basic strategy, but there are going to be situations \\nwhere the reader is just going to have to accept the outcomes of \\nthe Monte Carlo analysis. The following description of basic \\nstrategy is based on the multi-deck game found in several Atlan\\x02tic City and Las Vegas casinos, where the dealer stands on a \\nsoft seventeen, pairs may be re-split once, doubling down is \\npermitted after a split, and the player may double down on any \\ntwo cards. Other games require some minor adjustments that I'll\", metadata={'source': '/content/drive/MyDrive/blackjack_rag/Ultimate BlackJack.txt'}), Document(page_content='permitted after a split, and the player may double down on any \\ntwo cards. Other games require some minor adjustments that I\\'ll \\nnote where appropriate. However, you should never give up an \\nedge against the casino. I highly recommend playing only where \\nthe rules are more favorable to the player. \\n\"Soft\" & \"Hard\" Hands \\nA hard hand is a hand without an A where the payer\\'s total is \\ngiven by the face values of the cards, or a hand with an A that \\ncan only be counted as 1. A soft hand is a hand with an A which \\ncan be counted as either 1 or 11. For example, A, 4 is a soft \\nhand because the A may be counted as a 1 or 11; but A, 4, 7 is \\nnot, since counting the A as 11 would be a bust. \\nHit or Stand', metadata={'source': '/content/drive/MyDrive/blackjack_rag/Ultimate BlackJack.txt'}), Document(page_content='hand because the A may be counted as a 1 or 11; but A, 4, 7 is \\nnot, since counting the A as 11 would be a bust. \\nHit or Stand \\nThe guidelines for hitting are rather straightforward. If the \\ndealer shows a 2 or 3, you continue to take a hit until you have \\na hard 13 or a soft 18. If the dealer shows 4, 5, or 6, you con\\x02tinue to take a hit until you reach a hard 12 or a soft 18. If \\nthe dealer shows 7 or 8, you continue to take a hit until you \\nhave a hard 17 or a soft 18. It the dealer shows anything higher \\nthan 8, you continue to take a hit until you have a hard 17 or a \\nsoft 19. \\nDealer Shows \\n2 or 3 \\n4, 5, or 6 \\n7 or 8 \\n9, 10, or A \\nHit Until You Have \\nhard 13 or soft 18 \\nhard 12 or soft 18 \\nhard 17 or soft 18 \\nhard 17 or soft 19', metadata={'source': '/content/drive/MyDrive/blackjack_rag/Ultimate BlackJack.txt'}), Document(page_content='2 or 3 \\n4, 5, or 6 \\n7 or 8 \\n9, 10, or A \\nHit Until You Have \\nhard 13 or soft 18 \\nhard 12 or soft 18 \\nhard 17 or soft 18 \\nhard 17 or soft 19 \\nThough there is no mathematical \"proof\" of these principles \\nthere is actually some simple logic to them. Don\\'t forget that \\nyou are also playing the odds based on billions of simulations \\nof blackjack hands. Let\\'s look at some of the logic. \\n• If the dealer shows a 7 or above, then the most likely two-card \\ntotal is 17 or above (with a 10 or an A in the hole), so you \\nare going to have to take a card on any total under 17 or \\nlikely lose. \\n• When the dealer shows a card less than 7, the two-card total \\nwill likely be less than 17 (it can be exactly 17 with a 6 and', metadata={'source': '/content/drive/MyDrive/blackjack_rag/Ultimate BlackJack.txt'}), Document(page_content=\"likely lose. \\n• When the dealer shows a card less than 7, the two-card total \\nwill likely be less than 17 (it can be exactly 17 with a 6 and \\nan A), and the dealer will be forced to take another card. \\nSince there are more 10's in the deck than any other denomina -\\ntion, the dealer will have a fairly high probability of busting \\nand you will win. \\n• If you were to take a card with a total between 12 and 16 you \\nwould be likely to bust. In situations like this the proper \\nplay is to let the dealer pull. If the high card shows up and \\nthere is a high card in the hole, you will win. \\n• Hit a total of 12 against a dealer 2 or 3. I've seen books that\\ntell you to stand in these situations. They are wrong. You must \\ntake a card.\", metadata={'source': '/content/drive/MyDrive/blackjack_rag/Ultimate BlackJack.txt'}), Document(page_content='• Hit a total of 12 against a dealer 2 or 3. I\\'ve seen books that\\ntell you to stand in these situations. They are wrong. You must \\ntake a card. \\n• Hit a 16 against a dealer\\'s 7. Many inexperienced players have \\ntrouble believing that this is the proper play but it is. \\nCountless computer runs have proved it again and again. From \\nthe players point of view a total of 16 is no better than a to\\x02tal of 12; you can win with such totals only when the dealer \\nbreaks. Besides, there are still five cards that can help out a \\n16 (A, 2, 3, 4, 5). \\n• You take a card whenever you have A, 6 (unless you double down) \\nand you hit an A, 7 against a 9, 10, or A. It\\'s true that you \\nwill sometimes find yourself going \"backwards\" and have a hand', metadata={'source': '/content/drive/MyDrive/blackjack_rag/Ultimate BlackJack.txt'}), Document(page_content='and you hit an A, 7 against a 9, 10, or A. It\\'s true that you \\nwill sometimes find yourself going \"backwards\" and have a hand \\nthat is \"weaker\" than you just had. However, computer simula\\x02tions consistently show that this is the proper play. \\n• It may come as a surprise to inexperienced players, but 18 is \\nnot a strong hand when facing a dealer 9, 10, or A. \\nWhen to Split \\nThe guidelines for splitting are best described in a table. \\nSplit \\nA , A \\n10 , 10 \\n9 , 9 \\n8 , 8 \\n7 , 7 \\n6 , 6 \\n5 , 5 \\n4 , 4 \\n3 , 3 \\n2 , 2 \\nIf Dealer Shows \\nAny Card \\nNever \\n2 - 9 except 7 \\nAny Card \\n2 - 7 \\n2 - 6 \\nNever \\n5 or 6 \\n2 - 7 \\n2 - 7 \\nAgain, when there is some logic behind these guidelines. \\n• Always split A\\'s. The totals of 2 or 12 are not nearly as good', metadata={'source': '/content/drive/MyDrive/blackjack_rag/Ultimate BlackJack.txt'}), Document(page_content=\"5 or 6 \\n2 - 7 \\n2 - 7 \\nAgain, when there is some logic behind these guidelines. \\n• Always split A's. The totals of 2 or 12 are not nearly as good \\nas hitting 11's. \\n• Never split 10's. Two 10's is a great hand -- don't screw it \\nup! \\n• Never split 5's, but you may want to double down! \\n• Splitting 4's is a close call. Don't do it in one or two deck \\ngames. Do it in multideck games when the dealer shows a 5 or 6. \\n• Split 9's against a dealer card of 2 - 9 except 7. The reason \\nfor this exception is simple. You have 18. The dealer's most \\nprobable total is 17. Don't screw up a good thing. \\n• Splitting 8's, like 4's, depends on casino rules. Always do it \\nwhen the dealer shows 2 - 9. If the dealer shows 10 or A and\", metadata={'source': '/content/drive/MyDrive/blackjack_rag/Ultimate BlackJack.txt'}), Document(page_content='• Splitting 8\\'s, like 4\\'s, depends on casino rules. Always do it \\nwhen the dealer shows 2 - 9. If the dealer shows 10 or A and \\nyou happen to be lucky enough to be playing in a game that al\\x02lows early surrender, you should surrender. If surrender is not \\nan option, split. \\n• Splitting 6\\'s and 7\\'s is straightforward. If the dealer\\'s card \\nis higher than your card, don\\'t split. \\n• Always split 2\\'s or 3\\'s if the dealer\\'s card is less than 8. \\nYou should also note that the \"value\" of splitting is increased \\nif you are playing in a game that allows doubling down after a \\nsplit. \\nWhen to Double Down \\nThe principle behind doubling down (and splitting) is that it \\nincreases the amount of your money in play when the conditions', metadata={'source': '/content/drive/MyDrive/blackjack_rag/Ultimate BlackJack.txt'}), Document(page_content='When to Double Down \\nThe principle behind doubling down (and splitting) is that it \\nincreases the amount of your money in play when the conditions \\nof the hand are in your favor. These are both very important \\nparts of expert blackjack play and must be mastered. Once again, \\nthe best way to present the guidelines is in a table. \\nDouble Down \\n11 \\n10 \\n9 \\nA, 7 or A, 6 \\nA, 5 or A, 4 \\nA, 3 or A, 2 \\nIf Dealer Shows \\n2 - 10 \\n2 - 9 \\n3 - 6 \\n3 - 6 \\n4 - 6 \\n5 or 6 \\nWhen to Surrender \\nLate surrender is still permitted in some casinos. The guide\\x02lines are straightforward. Use the table below to decide when to \\nsurrender. \\nIf Dealer Shows \\nA, 10, or 9 \\n10 \\nSurrender If Holding \\nany 16 except 8 , 8 \\n15', metadata={'source': '/content/drive/MyDrive/blackjack_rag/Ultimate BlackJack.txt'}), Document(page_content='surrender. \\nIf Dealer Shows \\nA, 10, or 9 \\n10 \\nSurrender If Holding \\nany 16 except 8 , 8 \\n15 \\nEarly surrender provides a tremendous advantage for the player \\nwhich is why you may never find a game that allows it. If you \\nare lucky enough to find one, use the table below to decide when \\nto surrender. \\nIf Dealer Shows \\nA \\n10 \\n9 \\nEarly Surrender if Holding \\nAll hard 5 - 7 and 12 - 17 \\nAll hard 14 - 16 \\n10, 6 and 9 , 7 \\nWhen to Take Insurance \\nNever! Next topic. \\n\"Wait a minute!\" I can hear many players saying. Don\\'t you al- ways take insurance when you have blackjack yourself? That\\'s \\nwhat everyone tells me. \\nWell, let\\'s stop and take a look at that situation more closely. \\nMany people do believe that this is a \"no lose\" situation. The', metadata={'source': '/content/drive/MyDrive/blackjack_rag/Ultimate BlackJack.txt'}), Document(page_content='Well, let\\'s stop and take a look at that situation more closely. \\nMany people do believe that this is a \"no lose\" situation. The \\nlogic goes something like this. If your original bet is $10 and \\nyou have blackjack and you take insurance ($5), the hand will \\nplay out in one of two ways. Either the dealer will have black\\x02jack or he will not. If he does, the hand is a push but you will \\nwin $10 because of the insurance. If he does not, you will win \\nthe hand but not the insurance bet and you will still win $10. \\nWhile taking insurance when you have blackjack seems like a \\n\"win\" in every case (because it is), it is *not* your best play. \\nWhat most inexperienced players fail to realize is that the in -', metadata={'source': '/content/drive/MyDrive/blackjack_rag/Ultimate BlackJack.txt'}), Document(page_content='\"win\" in every case (because it is), it is *not* your best play. \\nWhat most inexperienced players fail to realize is that the in -\\nsurance is a side bet. It is completely unrelated to the origi\\x02nal bet. Let\\'s take a closer look. \\nYou are guaranteed a \"win\" when you take insurance, but you are \\nmissing the opportunity to play the odds for a larger win. As\\x02sume you are playing alone with the dealer in a six deck game \\nand you bet $10 on your hand and bet $5 on insurance. A six deck \\nshoe contains 96 10\\'s and 214 non-10\\'s. After you and the dealer \\nhave been dealt your cards, you have blackjack and the dealer \\nshows and A, so there are 95 10\\'s and 214 non-10\\'s left. There \\nare 95 ways for the dealer to have a 10 in the hole, and if you', metadata={'source': '/content/drive/MyDrive/blackjack_rag/Ultimate BlackJack.txt'}), Document(page_content=\"shows and A, so there are 95 10's and 214 non-10's left. There \\nare 95 ways for the dealer to have a 10 in the hole, and if you \\ntake insurance, you will win $10 on each of them for an income \\nof $950. However, there are 214 ways for the dealer to have a \\nnon-10 in the hole, and on those occasions you will lose $5 \\neach, for a loss of $1,070. This is an expected loss of $120 --\\n7.8 percent -- on 309 possibilities. A very bad bet! \\nIt should be noted that there are certain times when taking in\\x02surance is advantageous to the player, but these circumstances \\ncan only be detected by the best card counters. \\nTipping the Odds in Your Favor \\nUp until this point you have learned how to bring the odds to\", metadata={'source': '/content/drive/MyDrive/blackjack_rag/Ultimate BlackJack.txt'}), Document(page_content=\"can only be detected by the best card counters. \\nTipping the Odds in Your Favor \\nUp until this point you have learned how to bring the odds to \\njust about even in most casino games. Following the rules of ba\\x02sic strategy presented to this point will essentially remove the \\ncasino's advantage over you while you play. This is no small \\nachievement. This will allow the recreational player to play as \\nmuch as he wants without fear of losing his life savings. \\nIf you are like most players though, you want to find a way to \\ngive yourself the advantage over the house. After all, most \\nplayers enjoy the game for the possibility of winning. If you \\nwant to take the advantage, you will need to learn how to count \\ncards. \\nCounting Cards\", metadata={'source': '/content/drive/MyDrive/blackjack_rag/Ultimate BlackJack.txt'}), Document(page_content='want to take the advantage, you will need to learn how to count \\ncards. \\nCounting Cards \\nMany inexperienced players have a misconception about card \\ncounters as mathematical geniuses who can keep track of every \\ncard in a multiple decks of cards. While there may very well be \\npeople who can do this kind of thing, card counting is not about \\nkeeping track of every card. The idea behind counting cards is \\nto keep track of the players statistical likelihood of winning a \\nhand and then adjusting betting and playing accordingly. \\nThe idea behind card counting is simple gambling strategy. Any \\nprofessional gambler will tell you that the way to win at gam-\\nbling is to bet more when you have the advantage and bet less', metadata={'source': '/content/drive/MyDrive/blackjack_rag/Ultimate BlackJack.txt'}), Document(page_content='professional gambler will tell you that the way to win at gam-\\nbling is to bet more when you have the advantage and bet less \\n(or not at all) when you do not. It is that simple. In black\\x02jack, certain cards remaining in the deck are good for the \\nplayer and certain ones are not. If you \"count\" these cards, you \\nwill always know when you have the advantage. \\nEdward O. Thorp\\'s work confirmed that 10\\'s and A\\'s remaining in \\nthe deck were good for the player, while 5\\'s and 6\\'s remaining \\nin the deck were bad for the player. He worked out the circum\\x02stances under which particular combinations of cards remaining \\nin the deck gave the player and advantage over the house. He \\nalso presented the first two card-counting systems, Thorp\\'s', metadata={'source': '/content/drive/MyDrive/blackjack_rag/Ultimate BlackJack.txt'}), Document(page_content=\"in the deck gave the player and advantage over the house. He \\nalso presented the first two card-counting systems, Thorp's \\nfive-count and Thorp's ten-count. The latter, which is more pow\\x02erful, was based on determining the ration between 10's and non\\x0210's remaining in the deck. Card counting was born from irrefu\\x02table logic: Keep track of the cards: make small bets when the \\ndeck favors the house and large bets when it favors the players. \\nThorp's analysis was later improved upon by the work of many \\nothers, notably Julian Braun, Lawrence Revere, Peter Griffin, \\nStanford Wong, Ken Uston, Arnold Snyder, and Lance Humble. Today \\nthe game is understood at a rather deep level, and sophisticated\", metadata={'source': '/content/drive/MyDrive/blackjack_rag/Ultimate BlackJack.txt'}), Document(page_content='Stanford Wong, Ken Uston, Arnold Snyder, and Lance Humble. Today \\nthe game is understood at a rather deep level, and sophisticated \\nsystems exist that give the knowledgeable player a distinct edge \\nover the house. \\nWhich Cards Matter? \\nThe object of card counting is to keep track of cards that are \\nadvantageous to the player. The simple question is, then, \"which \\ncards matter?\" \\nThe card most beneficial to the player is the 10. 10\\'s are ad\\x02vantages to the player for several reasons. One, they will cause \\nthe dealer to bust since he is required to take cards based on \\nthe rules of play. He may not take other factors into account', metadata={'source': '/content/drive/MyDrive/blackjack_rag/Ultimate BlackJack.txt'}), Document(page_content='the dealer to bust since he is required to take cards based on \\nthe rules of play. He may not take other factors into account \\nwhile playing (like you do!). Two, they turn hands that you dou\\x02ble down on into very strong hands (which is why you double down \\non those hands, by the way). Three, they are used to create \\nblackjacks. Remember that blackjacks are more beneficial to the \\nplayer since getting one pays 3 to 2 but losing to one only \\ncosts the original bet! Another important card for the player is \\nthe A. Aces present soft doubling (and hitting) opportunities \\nand they create blackjacks. Remember - blackjack is more impor\\x02tant to the player than the house! \\nThe worst cards for the player are the 5 and the 6 (and 2, 3,', metadata={'source': '/content/drive/MyDrive/blackjack_rag/Ultimate BlackJack.txt'}), Document(page_content='The worst cards for the player are the 5 and the 6 (and 2, 3, \\nand 4 to a lesser degree). The reason these are not good for the \\nplayer is simple - they are beneficial to the house. Since the \\nhouse is forced by the rules of play to take cards on any hand \\nlower than 17, the 5 and the six present the possibility of very \\nstrong hands for the dealer (remember that 10\\'s are not advanta\\x02geous to the dealer since they make \"busts\" of these hands). \\nBefore we begin to learn how to count we should talk about how \\nthis will help us. You should remember that the purpose of \\ncounting is to know when the player has an advantage and when he \\ndoes not. This knowledge will do nothing for you unless you do', metadata={'source': '/content/drive/MyDrive/blackjack_rag/Ultimate BlackJack.txt'}), Document(page_content='counting is to know when the player has an advantage and when he \\ndoes not. This knowledge will do nothing for you unless you do \\nsomething with it. What you want to do is adjust your betting \\nand your play based on your advantage. \\nAdjusting Your Bets \\nAdjusting your bets is very straightforward. When the composi\\x02tion of the deck is in your favor, you bet more. When it is not, \\nyou bet less. Very simple. Learning just this can give you as \\nmuch as a 2% advantage against the house. If that advantage does \\nnot sound like much, keep in mind that many casino slot machines \\nonly produce a 2 - 3% advantage for the casino and that is \\nenough to make billions of dollars of profit for the casino.', metadata={'source': '/content/drive/MyDrive/blackjack_rag/Ultimate BlackJack.txt'}), Document(page_content='only produce a 2 - 3% advantage for the casino and that is \\nenough to make billions of dollars of profit for the casino. \\nGranted, this is at a much higher volume than you will play at \\nbut remember that bet sizes are much smaller. \\nAdjusting Your Play \\nLearning to adjust your play based on deck composition is not an \\neasy task, but the rewards are phenomenal. Taking this step can \\nincrease your advantage by another 2% for a total of 4% against \\nthe house. The good news is that you can learn this with a lot \\nof practice. The principles are simple but mastering this level \\nof play takes many hours of practice. \\nAn expert card counter will adjust play in many different ways \\ndepending on the composition of the deck. It is common for an', metadata={'source': '/content/drive/MyDrive/blackjack_rag/Ultimate BlackJack.txt'}), Document(page_content='An expert card counter will adjust play in many different ways \\ndepending on the composition of the deck. It is common for an \\nexpert card counter to do things that \"break the rules\" of basic \\nstrategy like: \\n1. Standing earlier if the deck is very 10 rich -- if the dealer \\ncan bust, so can you! \\n2. Standing later if the deck is very 10 poor. \\n3. Splitting 10\\'s when the deck is extremely 10 rich. \\n4. Doubling down on A, 9 when the deck is extremely 10 rich. \\nOf course, the most important play adjustment can be deciding \\nwhen to start playing at a table and when to stop. \\nA Simple Card Counting System \\nLet\\'s start with a very simple system. After you have mastered \\nbasic strategy play, this system should only take a couple of', metadata={'source': '/content/drive/MyDrive/blackjack_rag/Ultimate BlackJack.txt'}), Document(page_content=\"Let's start with a very simple system. After you have mastered \\nbasic strategy play, this system should only take a couple of \\ndozen hours play to learn but it will dramatically increase your \\nresults. This system will involve a simple count, a running \\ncount, bet progressions and a few minor adjustments to play. \\nFirst the count. Our count will keep track of 10's and A's on \\none hand and 2's, 3's, 4's, 5's, and 6's on the other. Start by \\nkeeping a running count of your advantage or disadvantage. In \\nthe interest of simplicity we will start with a single deck. A \\ndeck of cards has 4 A's and 16 10's ( 4 each of 10, J, Q, and K) \\nfor a total of 20 cards that benefit the player. The deck also\", metadata={'source': '/content/drive/MyDrive/blackjack_rag/Ultimate BlackJack.txt'}), Document(page_content='deck of cards has 4 A\\'s and 16 10\\'s ( 4 each of 10, J, Q, and K) \\nfor a total of 20 cards that benefit the player. The deck also \\ncontains 20 cards that are advantageous to the dealer ( 4 each \\nof 2, 3, 4, 5, and 6). As noted earlier, 5\\'s and 6\\'s are \"bet\\x02ter\" for the dealer than 2\\'s, 3\\'s, and 4\\'s but this is a simple \\ncount. Much more sophisticated counts exists and the reader is \\nencouraged to master this one first and then begin to look at \\nmore complex systems. \\nSo, we know we start with a running count of zero. Twenty cards \\nfor the player, twenty for the dealer - no advantage - zero. As \\nplay begins, you will add 1 to your \"count\" for every 2, 3, 4, \\n5, or 6 that is dealt. For each 10 or A, subtract one. The idea', metadata={'source': '/content/drive/MyDrive/blackjack_rag/Ultimate BlackJack.txt'}), Document(page_content='play begins, you will add 1 to your \"count\" for every 2, 3, 4, \\n5, or 6 that is dealt. For each 10 or A, subtract one. The idea \\nis simple. If a 5 is dealt, the deck now contains 20 \"10s\" and \\n19 of the \"other\" cards. More tens is to your advantage so you \\nadd one. If a 10 (or J, Q, K, or A) is dealt next, the advantage \\nis back to 0 ( 19 to 19 ). Now you have a running count. As long \\nas play continues with the same deck you will add 1 for every 2, \\n3, 4, 5, or 6 you see and subtract one for every 10 or A you \\nsee. \\nThe next step is to adjust the running count so that you have a \\n\"real\" count for the entire shoe. In a one deck game (which is \\nrare), this is simple; but in a multi-deck game the advantage', metadata={'source': '/content/drive/MyDrive/blackjack_rag/Ultimate BlackJack.txt'}), Document(page_content='\"real\" count for the entire shoe. In a one deck game (which is \\nrare), this is simple; but in a multi-deck game the advantage \\nwill be significantly different (though still an advantage). \\nCompare our one deck example with a six deck game. Let\\'s assume \\nin our one deck game you have seen 11 \"10s\" and 14 of the \\n\"other\" cards. This gives you a running count of +3 ( 0 plus 14 \\nminus 11 ). In a six deck game you will have the same running \\ncount but the advantage is not as great. \\nLooking at the actual number of cards we will see the differ\\x02ence. In our one deck example, there are 9 \"10s\" left and only 6 \\nof the others. If there are six decks in the shoe, and the same \\nnumber of cards have been dealt, you have 109 \"10s\" and 106', metadata={'source': '/content/drive/MyDrive/blackjack_rag/Ultimate BlackJack.txt'}), Document(page_content='of the others. If there are six decks in the shoe, and the same \\nnumber of cards have been dealt, you have 109 \"10s\" and 106 \\n\"other\" cards. It is clear that a 9:6 advantage is much differ\\x02ent than a 109:106 advantage. \\nThe easiest way to adjust for multiple decks is to divide your \\nrunning count by the number of decks. In our example, you would \\nhave an advantage of +3 if there were only one deck, but an ad\\x02vantage of +0.5 if there were six decks. ALL OF YOUR BET ADJUST- MENTS NEED TO BE BASED ON THE \"REAL\" COUNT. If you have a real \\ncount of +0.5, you have an advantage. If you have any number \\nless than +0.5, you do not have an advantage. \\nNow that you have counting down, we will discuss what to do with', metadata={'source': '/content/drive/MyDrive/blackjack_rag/Ultimate BlackJack.txt'}), Document(page_content='less than +0.5, you do not have an advantage. \\nNow that you have counting down, we will discuss what to do with \\nthat knowledge. Let\\'s take a look at a simple bet adjustment \\nstrategy that can be mastered by anyone. Start with a base unit \\nfor your betting. Your bet on each hand should be calculated \\nbased on this base unit of betting as follows. Your \"default\" \\nbet is 2 times the base unit. When your \"real\" count drops below \\n0, drop your bet to the base unit. When your \"real\" count is \\ngreater than or equal to one, you should increase your \"default\" \\nbet by the amount equal to your base unit times the count. \\nLet\\'s look at an example. If you base unit is $5, play would go \\nas follows. When the count is positive but less than one, you', metadata={'source': '/content/drive/MyDrive/blackjack_rag/Ultimate BlackJack.txt'}), Document(page_content=\"Let's look at an example. If you base unit is $5, play would go \\nas follows. When the count is positive but less than one, you \\nwill bet $10 ( 2 times $5 ). When the count is below zero, you \\nwill bet $5 ( base unit ). When the count is +1, you will bet \\n$15 ( $10 + $5 times count). If the count is +3, you will bet \\n$25, etc. \\nIs Counting Cards Illegal? \\nIn a word, no! Many people think that casinos implement rules to \\ntry and deter card counters, but the truth is that the rules are \\nusually implemented to deter cheating and many times these rules \\ndo put counters at a disadvantage. A simple example is the face \\ndown game. Casinos implemented the face down game to stop real \\ncheaters but obviously a face up game would be better for a card\", metadata={'source': '/content/drive/MyDrive/blackjack_rag/Ultimate BlackJack.txt'}), Document(page_content=\"down game. Casinos implemented the face down game to stop real \\ncheaters but obviously a face up game would be better for a card \\ncounter. \\nThat being said, casinos do not like card counters. You will \\nlearn as you get better at counting that some of the best bet\\x02ting opportunities arise when you can join a game only after the \\ndeck is in your favor. Unfortunately, most casinos will resort \\nto all sort of tactics to keep you from standing around a table \\nand studying play at the table. Don't ever walk up to a table \\nand watch a game with a pen and notebook in hand, for example. \\nPlaying Blackjack Professionally \\nCan you play blackjack professionally? Of course you can. As we \\nhave seen, blackjack is a winnable game and anyone willing to\", metadata={'source': '/content/drive/MyDrive/blackjack_rag/Ultimate BlackJack.txt'}), Document(page_content='Can you play blackjack professionally? Of course you can. As we \\nhave seen, blackjack is a winnable game and anyone willing to \\ninvest in hours of practice will consistently have an advantage \\nover the house. Once you have mastered the techniques presented \\nup to this point, you may want to learn some of the more ad\\x02vanced techniques. \\nHow to Practice \\nTake a deck of cards and deal off one card at a time while try\\x02ing to keep a running count. After all cards are dealt, your\\ncount should be zero. If you get good at this at increasing \\nspeeds, you should move to dealing off the cards in pairs and \\nlearn to count two at a time. This will train you to look at \\ncards in groups which will leave you more time during games to', metadata={'source': '/content/drive/MyDrive/blackjack_rag/Ultimate BlackJack.txt'}), Document(page_content='learn to count two at a time. This will train you to look at \\ncards in groups which will leave you more time during games to \\ncalculate your bet, make play adjustments and \"act natural.\" \\nA More Complex Betting Adjustment Scheme \\nThe most efficient betting scheme is called the Kelly Criterion. \\nThis system, named for the mathematician J. L. Kelly, is much \\nmore complex than the system we learned earlier but it is much \\nmore efficient. This system dictates that the player should bet \\nthe percent of his bankroll that corresponds to the probabilis-\\ntic advantage you have on that hand. If your bankroll is $1,000 \\nand you have a 1% edge, you will bet $10. If you have a 2.5% \\nedge, you will bet $25.', metadata={'source': '/content/drive/MyDrive/blackjack_rag/Ultimate BlackJack.txt'}), Document(page_content=\"and you have a 1% edge, you will bet $10. If you have a 2.5% \\nedge, you will bet $25. \\nThis system relies on knowing your edge at any point in the \\ngame. This can be calculated using the following formula: \\nedge = expectation + ( 0.5 * real count) \\nWe did not talk about expectation in this book but it represents \\nthe player's expectation of a win if following basic strategy \\nand it is dependent on the rules of the casino. A player who \\nfollows basic strategy in a single deck game where the dealer \\nstands on soft seventeen, doubling down is permitted on any two \\nopening cards (but not after splitting) and there is no surren\\x02der will have an expectation of 0%. He will be even with the\", metadata={'source': '/content/drive/MyDrive/blackjack_rag/Ultimate BlackJack.txt'}), Document(page_content='opening cards (but not after splitting) and there is no surren\\x02der will have an expectation of 0%. He will be even with the \\nhouse. Use the chart below to get an idea of your expectation \\nbased on rule differences. \\nRule Variation \\nEarly Surrender* \\nLate Surrender ( 1 or 2 decks ) \\nImpact on Expecta\\x02tion \\n+ 0.62 \\n+ 0.02', metadata={'source': '/content/drive/MyDrive/blackjack_rag/Ultimate BlackJack.txt'}), Document(page_content='Rule Variation \\nLate Surrender ( 4 or more decks ) \\nDoubling on three or more cards* \\nDrawing more than one card on split A’s* \\nDoubling on split pairs \\nRe-splitting of A’s \\nRe-splitting of pairs \\nNo doubling on 11* \\nNo doubling on 10* \\nNo doubling on 9 \\nNo doubling on soft hands \\nTwo decks \\nImpact on Expecta\\x02tion \\n+ 0.07 \\n+ 0.20 \\n+ 0.14 \\n+ 0.10 \\n+ 0.03 \\n+ 0.05 \\n- 0.89 \\n- 0.56 \\n- 0.14 \\n- 0.14 \\n- 0.38 \\nFour decks \\nRule Variation Impact on Expecta\\x02tion \\n- 0.51 \\nSix or more decks \\nDealers hits soft 17 \\n*Rarely found these days\\n- 0.60 \\n- 0.20', metadata={'source': '/content/drive/MyDrive/blackjack_rag/Ultimate BlackJack.txt'})] \n",
            "\n",
            "\n",
            "\n",
            "2\n"
          ]
        }
      ]
    },
    {
      "cell_type": "code",
      "source": [
        "merged_documents = []\n",
        "\n",
        "for doc in docs:\n",
        "  merged_documents.extend(doc)\n",
        "\n",
        "# Print the merged list of all the documents.\n",
        "print(\"len(merged_documents) =\", len(merged_documents))"
      ],
      "metadata": {
        "colab": {
          "base_uri": "https://localhost:8080/"
        },
        "id": "ROtWZ7xlmFFZ",
        "outputId": "ffc64e85-00a1-4d72-8244-c11bab028d5d"
      },
      "execution_count": null,
      "outputs": [
        {
          "output_type": "stream",
          "name": "stdout",
          "text": [
            "len(merged_documents) = 875\n"
          ]
        }
      ]
    },
    {
      "cell_type": "code",
      "source": [
        "vector_search = MongoDBAtlasVectorSearch.from_documents(\n",
        "    documents=merged_documents, # The sample documents to store in the vector database.\n",
        "    embedding=OpenAIEmbeddings(), # OpenAI's embedding model as the model used to convert text into vector embeddings for the embedding field.\n",
        "    collection=MONGODB_COLLECTION, # pdfs.pdfs_collection as the Atlas collection to store the documents.\n",
        "    index_name=vector_search_index # vector_index as the index to use for querying the vector store.\n",
        ")"
      ],
      "metadata": {
        "id": "NwkAo23imHpC"
      },
      "execution_count": null,
      "outputs": []
    }
  ]
}